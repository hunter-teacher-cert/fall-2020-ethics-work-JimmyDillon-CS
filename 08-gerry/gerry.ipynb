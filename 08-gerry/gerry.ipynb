{
  "nbformat": 4,
  "nbformat_minor": 0,
  "metadata": {
    "colab": {
      "name": "gerry.ipynb",
      "provenance": [],
      "collapsed_sections": []
    },
    "kernelspec": {
      "name": "python3",
      "display_name": "Python 3"
    }
  },
  "cells": [
    {
      "cell_type": "code",
      "metadata": {
        "id": "S0VQaXT3Q3ci"
      },
      "source": [
        "# Colab link: https://colab.research.google.com/drive/1uuDMgIwTwDNRD4wkuSXYG_uYXyQp5lgT?usp=sharing\n",
        "\n",
        "# import statements\n",
        "import random as rn\n",
        "import math\n",
        "import copy\n",
        "import requests\n",
        "from google.colab import files\n",
        "#uploaded = files.upload()\n",
        "url = 'https://raw.githubusercontent.com/JimmyDillon-CS/public/main/all_districts.txt'\n",
        "uploaded = requests.get(url).text\n",
        "#print(uploaded)"
      ],
      "execution_count": 1,
      "outputs": []
    },
    {
      "cell_type": "code",
      "metadata": {
        "id": "Xj325qOzEgEC"
      },
      "source": [
        "# This creates a 2-d array that represents the districts\n",
        "\n",
        "#result = str(uploaded.values())\n",
        "result = str(uploaded)\n",
        "result = result.split(\"\\n\")\n",
        "#result[0]=result[0][-112:]\n",
        "#print(len(result[0]))\n",
        "a_d = []\n",
        "for x in result:\n",
        "  y = x[-113:] # removes the space at the front of the string\n",
        "  tmp = y.split(\", \") # splits by \", \"\n",
        "  a_d.append(copy.deepcopy(tmp))\n",
        "  tmp.clear()"
      ],
      "execution_count": 2,
      "outputs": []
    },
    {
      "cell_type": "code",
      "metadata": {
        "id": "CeDLAqV0T6lf"
      },
      "source": [
        "# sets the size of the state and number of parties\n",
        "\n",
        "state_width = 3\n",
        "state_length = 6\n",
        "parties = 2"
      ],
      "execution_count": 3,
      "outputs": []
    },
    {
      "cell_type": "code",
      "metadata": {
        "id": "QQ-Hv4HcQ51J"
      },
      "source": [
        "# A state contains a name and a 6x3 grid of cells.\n",
        "class State:\n",
        "  \n",
        "  def __init__ (self, name, cells):\n",
        "    self.name = name\n",
        "    self.cells = cells\n",
        "  \n",
        "  def __str__(self):\n",
        "    return \"State Name: % s Cells: % s\" % (self.name, self.cells)"
      ],
      "execution_count": 4,
      "outputs": []
    },
    {
      "cell_type": "code",
      "metadata": {
        "id": "7kppvRBuRRnH"
      },
      "source": [
        "# Creates a state by adding random 1's and 0's into (rows) arrays\n",
        "# and placing those rows into a new array.\n",
        "def create_state (name):\n",
        "  tmp_cells = []\n",
        "  row = []\n",
        "\n",
        "  for x in range(0, state_length):\n",
        "    row.clear()\n",
        "    for y in range(0, state_width):\n",
        "      row.append(rn.randint(0,parties-1))\n",
        "    #print(row)\n",
        "    tmp_cells.append(copy.deepcopy(row))\n",
        "\n",
        "  new_state = State (name, copy.deepcopy(tmp_cells))\n",
        "  tmp_cells.clear()\n",
        "  return new_state\n",
        "\n",
        "#maryland = create_state(\"maryland\")\n",
        "#print(maryland)"
      ],
      "execution_count": 5,
      "outputs": []
    },
    {
      "cell_type": "code",
      "metadata": {
        "id": "850wYKhTTdlm"
      },
      "source": [
        "# Cleanly displays a state as a 6 x 3 grid\n",
        "def display_state (my_state):\n",
        "  print (\"State Name: \" + my_state.name)\n",
        "  print (\"----------------------------\")\n",
        "  print (\" +---+---+---+\")\n",
        "  for x in range(0, state_length):\n",
        "    for y in range (0, state_width):\n",
        "      print(\" | \", end=\"\")\n",
        "      print (my_state.cells[x][y], end=\"\")\n",
        "    print (\" |\")\n",
        "    print (\" +---+---+---+\")\n",
        "\n",
        "#display_state(maryland)"
      ],
      "execution_count": 6,
      "outputs": []
    },
    {
      "cell_type": "code",
      "metadata": {
        "id": "gP2Yrr5qhVQI"
      },
      "source": [
        "# Given a state and a district configuration.\n",
        "# Returns the number of districts won by the 1-party\n",
        "\n",
        "def district_score (my_state, district):\n",
        "  zero_score = 0\n",
        "  one_score = 0\n",
        "  \n",
        "  for x in range(0, state_length):\n",
        "    count = 0\n",
        "    coords = district[x]\n",
        "\n",
        "    #print(coords)\n",
        "    #print(coords[0])\n",
        "    #print(coords[1])\n",
        "\n",
        "    x_val = int(coords[1])\n",
        "    y_val = int(coords[3])\n",
        "    \n",
        "    if my_state.cells[y_val][x_val] == 1:\n",
        "        count+=1\n",
        "    \n",
        "    x_val = int(coords[7])\n",
        "    y_val = int(coords[9])\n",
        "    \n",
        "    if my_state.cells[y_val][x_val] == 1:\n",
        "        count+=1\n",
        "    \n",
        "    x_val = int(coords[13])\n",
        "    y_val = int(coords[15])\n",
        "    \n",
        "    if my_state.cells[y_val][x_val] == 1:\n",
        "        count+=1\n",
        "    \n",
        "    if count>1:\n",
        "      one_score+=1\n",
        "    else:\n",
        "      zero_score+=1\n",
        "\n",
        "  return one_score\n",
        "\n",
        "#print(a_d[0])\n",
        "#district_score(maryland, a_d[0])"
      ],
      "execution_count": 7,
      "outputs": []
    },
    {
      "cell_type": "code",
      "metadata": {
        "id": "Ifr2O9SvNVD0"
      },
      "source": [
        "# Given a state, calculates the state's percentage of 1's. \n",
        "# Determines the number of districts that 1 should win.\n",
        "\n",
        "def state_score(my_state):\n",
        "  score = 0\n",
        "  for x in range(0, state_length):\n",
        "    for y in range (0, state_width):\n",
        "      score+=my_state.cells[x][y]\n",
        "  #print(score)\n",
        "  return score\n",
        "\n",
        "#state_score(maryland)"
      ],
      "execution_count": 8,
      "outputs": []
    },
    {
      "cell_type": "code",
      "metadata": {
        "id": "3cGkOAgyXVo0"
      },
      "source": [
        "# Determines if a cell is in a district.\n",
        "\n",
        "def find_cell (coords, district):\n",
        "  for x in range(0, state_length):\n",
        "    if district[x].find(coords) != -1:\n",
        "      return x\n",
        "  return"
      ],
      "execution_count": 9,
      "outputs": []
    },
    {
      "cell_type": "code",
      "metadata": {
        "id": "72OfV2G7XGfh"
      },
      "source": [
        "# Given a state and district\n",
        "# Prints a color-coded state by district\n",
        "\n",
        "def display_district(my_state, district):\n",
        "  print(\"\")\n",
        "  print (\" +---+---+---+\")\n",
        "  for x in range(0, state_length):\n",
        "    for y in range (0, state_width):\n",
        "      color_offset = find_cell (str(y) + \",\" + str(x), district)\n",
        "      color = \"\\u001b[\" + str(color_offset+31)+\"m \"\n",
        "      print(\" |\", end=\"\")\n",
        "      print (color+str(my_state.cells[x][y])+\"\\u001b[0m\", end=\"\")\n",
        "    print(\" |\")\n",
        "    print(\" +---+---+---+\")\n",
        "  return\n",
        "\n",
        "#display_district(maryland, dist)"
      ],
      "execution_count": 10,
      "outputs": []
    },
    {
      "cell_type": "code",
      "metadata": {
        "id": "5Hwh3TvWMxq1"
      },
      "source": [
        "# Given a state and a projected number of winning districts\n",
        "# Returns the district that works best \n",
        "\n",
        "def find_dist(my_state, score):\n",
        "  for x in a_d:\n",
        "    dist_score = district_score(my_state, x)\n",
        "    if dist_score == score:\n",
        "      return x\n",
        "  \n",
        "  return"
      ],
      "execution_count": 11,
      "outputs": []
    },
    {
      "cell_type": "code",
      "metadata": {
        "id": "qar9iL6oFirk"
      },
      "source": [
        "# Finds the best district by walking through each district configuration\n",
        "# and return the one that most closely approcimates the one to zero ratio.\n",
        "\n",
        "def best_district (my_state):\n",
        "  score = state_score(my_state)\n",
        "  print (\"STATE BREAKDOWN:\")\n",
        "  print (\"----------------\")\n",
        "  print (\"0: \" + str(18-score) + \" (\" + str(round((18-score)/18, 2)) + \"%)\")\n",
        "  print (\"1: \" + str(score) + \" (\" + str(round(score/18, 2)) + \"%)\")\n",
        "  one_dists = int(round(score/3))\n",
        "  zero_dists = 6 - one_dists\n",
        "  print(\"\")\n",
        "  print (\"Your state should contain: \")\n",
        "  print (\"---------------\")\n",
        "  print (\"0-districts: \" + str(zero_dists))\n",
        "  print (\"1-districts: \" + str(one_dists))\n",
        "\n",
        "  best_fit_dist = find_dist(my_state, one_dists)\n",
        "\n",
        "  display_district(my_state, best_fit_dist)\n",
        "\n",
        "  return"
      ],
      "execution_count": 12,
      "outputs": []
    },
    {
      "cell_type": "code",
      "metadata": {
        "id": "V-bI5m_1fkWN"
      },
      "source": [
        "# Runs the show\n",
        "\n",
        "def main():\n",
        "  empire = create_state (\"empire\")\n",
        "  display_state(empire)\n",
        "  best_district(empire)\n",
        "\n",
        "main()"
      ],
      "execution_count": null,
      "outputs": []
    }
  ]
}